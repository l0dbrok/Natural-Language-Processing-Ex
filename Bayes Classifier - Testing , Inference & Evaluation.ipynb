{
 "cells": [
  {
   "cell_type": "markdown",
   "metadata": {},
   "source": [
    "# Notebook Imports"
   ]
  },
  {
   "cell_type": "code",
   "execution_count": 1,
   "metadata": {},
   "outputs": [],
   "source": [
    "import numpy as np\n",
    "import pandas as pd\n",
    "import matplotlib.pyplot as plt\n",
    "import seaborn as sns\n",
    "\n",
    "\n",
    "\n",
    "\n",
    "\n",
    "\n",
    "%matplotlib inline"
   ]
  },
  {
   "cell_type": "markdown",
   "metadata": {},
   "source": [
    "# Constants"
   ]
  },
  {
   "cell_type": "code",
   "execution_count": 2,
   "metadata": {},
   "outputs": [],
   "source": [
    "TOKEN_SPAM_PROB_FILE ='/Users/netof/Desktop/DATA SCIENCE/[FreeCourseSite.com] Udemy - Complete 2020 Data Science & Machine Learning Bootcamp/6. Pre-Process Text Data for a Naive Bayes Classifier to Filter Spam Emails Part 1/SpamData/03_Testing/prob-spam.txt'\n",
    "TOKEN_NONSPAM_PROB_FILE ='/Users/netof/Desktop/DATA SCIENCE/[FreeCourseSite.com] Udemy - Complete 2020 Data Science & Machine Learning Bootcamp/6. Pre-Process Text Data for a Naive Bayes Classifier to Filter Spam Emails Part 1/SpamData/03_Testing/prob-nonspam.txt'\n",
    "TOKEN_ALL_PROB_FILE ='/Users/netof/Desktop/DATA SCIENCE/[FreeCourseSite.com] Udemy - Complete 2020 Data Science & Machine Learning Bootcamp/6. Pre-Process Text Data for a Naive Bayes Classifier to Filter Spam Emails Part 1/SpamData/03_Testing/prob-all.txt'\n",
    "\n",
    "TEST_FEATURE_MATRIX = '/Users/netof/Desktop/DATA SCIENCE/[FreeCourseSite.com] Udemy - Complete 2020 Data Science & Machine Learning Bootcamp/6. Pre-Process Text Data for a Naive Bayes Classifier to Filter Spam Emails Part 1/SpamData/03_Testing/test-features.txt'\n",
    "TEST_TARGET_MATRIX = '/Users/netof/Desktop/DATA SCIENCE/[FreeCourseSite.com] Udemy - Complete 2020 Data Science & Machine Learning Bootcamp/6. Pre-Process Text Data for a Naive Bayes Classifier to Filter Spam Emails Part 1/SpamData/03_Testing/test-target.txt'\n",
    "\n",
    "WORD_ID_FILE = '/Users/netof/Desktop/DATA SCIENCE/[FreeCourseSite.com] Udemy - Complete 2020 Data Science & Machine Learning Bootcamp/6. Pre-Process Text Data for a Naive Bayes Classifier to Filter Spam Emails Part 1/SpamData/01_Processing/word-by-id.csv'\n",
    "\n",
    "\n",
    "VOCAB_SIZE = 2500"
   ]
  },
  {
   "cell_type": "markdown",
   "metadata": {},
   "source": [
    "# LOAD DATA"
   ]
  },
  {
   "cell_type": "code",
   "execution_count": 3,
   "metadata": {},
   "outputs": [],
   "source": [
    "#Features\n",
    "X_test = np.loadtxt(TEST_FEATURE_MATRIX, delimiter =' ')\n",
    "# TARGET\n",
    "y_test = np.loadtxt(TEST_TARGET_MATRIX, delimiter = ' ')\n",
    "# Token Probs\n",
    "\n",
    "prob_token_spam = np.loadtxt(TOKEN_SPAM_PROB_FILE, delimiter = ' ')\n",
    "prob_token_ham = np.loadtxt(TOKEN_NONSPAM_PROB_FILE, delimiter = ' ')\n",
    "prob_all_tokens = np.loadtxt(TOKEN_ALL_PROB_FILE, delimiter = ' ')"
   ]
  },
  {
   "cell_type": "markdown",
   "metadata": {},
   "source": [
    "# Calculating the Probability\n",
    "\n",
    "## The Dot Product"
   ]
  },
  {
   "cell_type": "code",
   "execution_count": 4,
   "metadata": {},
   "outputs": [],
   "source": [
    "a = np.array([1,2,3])\n",
    "b = np.array([0,4,5])"
   ]
  },
  {
   "cell_type": "code",
   "execution_count": 5,
   "metadata": {},
   "outputs": [
    {
     "data": {
      "text/plain": [
       "23"
      ]
     },
     "execution_count": 5,
     "metadata": {},
     "output_type": "execute_result"
    }
   ],
   "source": [
    "a.dot(b)"
   ]
  },
  {
   "cell_type": "code",
   "execution_count": 6,
   "metadata": {},
   "outputs": [
    {
     "data": {
      "text/plain": [
       "(1724, 2500)"
      ]
     },
     "execution_count": 6,
     "metadata": {},
     "output_type": "execute_result"
    }
   ],
   "source": [
    "X_test.shape"
   ]
  },
  {
   "cell_type": "code",
   "execution_count": 7,
   "metadata": {},
   "outputs": [
    {
     "data": {
      "text/plain": [
       "(2500,)"
      ]
     },
     "execution_count": 7,
     "metadata": {},
     "output_type": "execute_result"
    }
   ],
   "source": [
    "prob_token_spam.shape"
   ]
  },
  {
   "cell_type": "code",
   "execution_count": 8,
   "metadata": {},
   "outputs": [
    {
     "name": "stdout",
     "output_type": "stream",
     "text": [
      "shape of the dot prod : (1724,)\n"
     ]
    }
   ],
   "source": [
    "print('shape of the dot prod :',  X_test.dot(prob_token_spam).shape)"
   ]
  },
  {
   "cell_type": "markdown",
   "metadata": {},
   "source": [
    "## Set the Prior\n",
    "\n",
    "$$P (Spam \\, | \\, X) = \\frac{P(X \\, | \\, Spam \\,) \\, P(Spam)} {P(X)}$$"
   ]
  },
  {
   "cell_type": "code",
   "execution_count": 9,
   "metadata": {},
   "outputs": [],
   "source": [
    "PROB_SPAM = 0.3476"
   ]
  },
  {
   "cell_type": "code",
   "execution_count": 10,
   "metadata": {},
   "outputs": [],
   "source": [
    "log_prob_token_spam =np.log(prob_token_spam)"
   ]
  },
  {
   "cell_type": "markdown",
   "metadata": {},
   "source": [
    "## Joint Probability in log Format"
   ]
  },
  {
   "cell_type": "code",
   "execution_count": 11,
   "metadata": {},
   "outputs": [],
   "source": [
    "## MULTIPLY THE PRIOR BY THE TEST \"CONSTANT\"\n",
    "\n",
    "joint_log_spam = X_test.dot(np.log(prob_token_spam) - np.log(prob_all_tokens)) + np.log(PROB_SPAM)"
   ]
  },
  {
   "cell_type": "code",
   "execution_count": 12,
   "metadata": {},
   "outputs": [
    {
     "data": {
      "text/plain": [
       "array([[0., 0., 0., ..., 0., 0., 0.],\n",
       "       [0., 2., 1., ..., 0., 0., 0.],\n",
       "       [3., 0., 1., ..., 0., 0., 0.],\n",
       "       [5., 1., 2., ..., 0., 0., 0.],\n",
       "       [1., 2., 0., ..., 0., 0., 0.]])"
      ]
     },
     "execution_count": 12,
     "metadata": {},
     "output_type": "execute_result"
    }
   ],
   "source": [
    "X_test[:5]"
   ]
  },
  {
   "cell_type": "code",
   "execution_count": 13,
   "metadata": {},
   "outputs": [],
   "source": [
    "joint_log_ham = X_test.dot(np.log(prob_token_ham) - np.log(prob_all_tokens)) + np.log(1 - PROB_SPAM)"
   ]
  },
  {
   "cell_type": "code",
   "execution_count": null,
   "metadata": {},
   "outputs": [],
   "source": []
  },
  {
   "cell_type": "markdown",
   "metadata": {},
   "source": [
    "#  Making Predictions\n",
    "\n",
    "### Cheking for the higher joint probability\n",
    "\n",
    "$$P(Spam \\, | \\, X) \\, > \\, P(Ham \\, | \\, X)$$\n",
    "<br>\n",
    "<center> **OR** </center>\n",
    "<br>\n",
    "$$P(Spam \\, | \\, X) \\, < \\, P(Ham \\, | \\, X)$$"
   ]
  },
  {
   "cell_type": "code",
   "execution_count": 14,
   "metadata": {},
   "outputs": [
    {
     "data": {
      "text/plain": [
       "array([False, False, False, False, False])"
      ]
     },
     "execution_count": 14,
     "metadata": {},
     "output_type": "execute_result"
    }
   ],
   "source": [
    "prediction = joint_log_spam > joint_log_ham\n",
    "prediction[-5:]"
   ]
  },
  {
   "cell_type": "code",
   "execution_count": 15,
   "metadata": {},
   "outputs": [
    {
     "data": {
      "text/plain": [
       "array([0., 0., 0., 0., 0.])"
      ]
     },
     "execution_count": 15,
     "metadata": {},
     "output_type": "execute_result"
    }
   ],
   "source": [
    "y_test[-5:]"
   ]
  },
  {
   "cell_type": "markdown",
   "metadata": {},
   "source": [
    "### Simplify\n",
    "\n",
    "DE PROB DO NOT DEPPEND ON THE PROB OF THE TOKEN APPEARING IN THE DATAF"
   ]
  },
  {
   "cell_type": "code",
   "execution_count": 16,
   "metadata": {},
   "outputs": [],
   "source": [
    "joint_log_spam = X_test.dot(np.log(prob_token_spam)) + np.log(PROB_SPAM)\n",
    "joint_log_ham = X_test.dot(np.log(prob_token_ham)) + np.log(1 - PROB_SPAM)"
   ]
  },
  {
   "cell_type": "markdown",
   "metadata": {},
   "source": [
    "## METRICS\n",
    "\n",
    "### Accuracy"
   ]
  },
  {
   "cell_type": "code",
   "execution_count": 22,
   "metadata": {},
   "outputs": [
    {
     "name": "stdout",
     "output_type": "stream",
     "text": [
      "corrent docs: 1668\n",
      "incorrent docs: 56\n",
      "% of accuracy : 0.9675174013921114\n",
      "% of incorect : 0.0324825986078886\n"
     ]
    }
   ],
   "source": [
    "# SUM ALL THE TRUE VALUES\n",
    "correct_doc = (y_test == prediction).sum()\n",
    "wrong_doc = X_test.shape[0] - correct_doc\n",
    "print(f'corrent docs: {correct_doc}')\n",
    "print(f'incorrent docs: {wrong_doc}')\n",
    "print(f'% of accuracy : {correct_doc / X_test.shape[0]}')\n",
    "print(f'% of incorect : {1- (correct_doc/ X_test.shape[0])}')\n"
   ]
  },
  {
   "cell_type": "markdown",
   "metadata": {},
   "source": [
    "## Visualising the results"
   ]
  },
  {
   "cell_type": "code",
   "execution_count": 33,
   "metadata": {},
   "outputs": [],
   "source": [
    "yaxis_label = 'P(X|Spam)'\n",
    "xaxis_label = 'P(X|Nonspam)'\n",
    "\n",
    "linedata = np.linspace(start = -14000, stop = 1, num = 1000)"
   ]
  },
  {
   "cell_type": "code",
   "execution_count": 41,
   "metadata": {},
   "outputs": [
    {
     "data": {
      "text/plain": [
       "<matplotlib.collections.PathCollection at 0x1a256690d0>"
      ]
     },
     "execution_count": 41,
     "metadata": {},
     "output_type": "execute_result"
    },
    {
     "data": {
      "image/png": "[encoded data removed]",
      "text/plain": [
       "<Figure size 792x504 with 2 Axes>"
      ]
     },
     "metadata": {
      "needs_background": "light"
     },
     "output_type": "display_data"
    }
   ],
   "source": [
    "plt.figure(figsize=(11,7))\n",
    "\n",
    "\n",
    "# Chart nr.1\n",
    "plt.subplot(1,2,1)\n",
    "\n",
    "plt.xlabel(xaxis_label, fontsize = 14)\n",
    "plt.ylabel(yaxis_label, fontsize= 14)\n",
    "\n",
    "## Set Scale\n",
    "plt.xlim([-14000,1])\n",
    "plt.ylim([-14000,1])\n",
    "\n",
    "plt.plot(linedata, linedata, color = 'orange')\n",
    "plt.scatter(joint_log_ham,joint_log_spam, color = 'navy',alpha= 0.5, s= 25)\n",
    "\n",
    "# Chart Nr.2\n",
    "plt.subplot(1,2,2)\n",
    "\n",
    "plt.xlabel(xaxis_label, fontsize = 14)\n",
    "plt.ylabel(yaxis_label, fontsize= 14)\n",
    "\n",
    "## Set Scale\n",
    "plt.xlim([-2000,1])\n",
    "plt.ylim([-2000,1])\n",
    "\n",
    "plt.plot(linedata, linedata, color = 'orange')\n",
    "plt.scatter(joint_log_ham,joint_log_spam, color = 'navy',alpha= 0.5, s= 3)\n"
   ]
  },
  {
   "cell_type": "code",
   "execution_count": 44,
   "metadata": {},
   "outputs": [],
   "source": [
    "# Chart Styling\n",
    "\n",
    "sns.set_style('whitegrid')\n",
    "labels = 'Actual Category'\n",
    "\n",
    "summary_df = pd.DataFrame({yaxis_label:joint_log_spam, xaxis_label:joint_log_ham,\n",
    "                          labels : y_test})"
   ]
  },
  {
   "cell_type": "code",
   "execution_count": 69,
   "metadata": {},
   "outputs": [
    {
     "data": {
      "text/plain": [
       "<matplotlib.legend.Legend at 0x1a2981c410>"
      ]
     },
     "execution_count": 69,
     "metadata": {},
     "output_type": "execute_result"
    },
    {
     "data": {
      "image/png": "[encoded data removed]",
      "text/plain": [
       "<Figure size 360x360 with 1 Axes>"
      ]
     },
     "metadata": {},
     "output_type": "display_data"
    }
   ],
   "source": [
    "my_colors = ['#2021A0','#C2151B']\n",
    "\n",
    "sns.lmplot(x= xaxis_label, y = yaxis_label, data = summary_df ,fit_reg= False,\n",
    "          scatter_kws = {'alpha' : 0.5, 's':25} , hue = labels ,\n",
    "           markers=['o','x'], palette= my_colors, legend = False )\n",
    "plt.xlim([-2000,1])\n",
    "plt.ylim([-2000,1])\n",
    "\n",
    "plt.plot(linedata,linedata, color = 'black')\n",
    "\n",
    "plt.legend(('Decision Boundary','Nonspam', 'Spam'), loc = 'lower right', fontsize = 10)\n",
    "\n",
    "\n"
   ]
  },
  {
   "cell_type": "markdown",
   "metadata": {},
   "source": [
    "## False Positives and False Negatives"
   ]
  },
  {
   "cell_type": "code",
   "execution_count": 70,
   "metadata": {},
   "outputs": [
    {
     "data": {
      "text/plain": [
       "(array([False,  True]), array([1169,  555]))"
      ]
     },
     "execution_count": 70,
     "metadata": {},
     "output_type": "execute_result"
    }
   ],
   "source": [
    "np.unique(prediction,return_counts=True)"
   ]
  },
  {
   "cell_type": "code",
   "execution_count": 75,
   "metadata": {},
   "outputs": [],
   "source": [
    "# bitwise (&) : element by element comparisson\n",
    "true_pos = (y_test == 1) & (prediction == 1)"
   ]
  },
  {
   "cell_type": "code",
   "execution_count": 76,
   "metadata": {},
   "outputs": [
    {
     "data": {
      "text/plain": [
       "544"
      ]
     },
     "execution_count": 76,
     "metadata": {},
     "output_type": "execute_result"
    }
   ],
   "source": []
  },
  {
   "cell_type": "code",
   "execution_count": 85,
   "metadata": {},
   "outputs": [],
   "source": [
    "from sklearn.metrics import confusion_matrix"
   ]
  },
  {
   "cell_type": "code",
   "execution_count": 86,
   "metadata": {},
   "outputs": [
    {
     "name": "stdout",
     "output_type": "stream",
     "text": [
      "[[1124   11]\n",
      " [  45  544]]\n"
     ]
    }
   ],
   "source": [
    "print(confusion_matrix(y_test, prediction))"
   ]
  },
  {
   "cell_type": "markdown",
   "metadata": {},
   "source": [
    "## Recall Score \n",
    "\n",
    "True Positives / True Positives + False Negatives"
   ]
  },
  {
   "cell_type": "code",
   "execution_count": 88,
   "metadata": {},
   "outputs": [],
   "source": [
    "from sklearn.metrics import recall_score"
   ]
  },
  {
   "cell_type": "code",
   "execution_count": 91,
   "metadata": {},
   "outputs": [
    {
     "name": "stdout",
     "output_type": "stream",
     "text": [
      "0.924\n"
     ]
    }
   ],
   "source": [
    "print(round(recall_score(y_test,prediction),3))"
   ]
  },
  {
   "cell_type": "markdown",
   "metadata": {},
   "source": [
    "## Precision Score"
   ]
  },
  {
   "cell_type": "code",
   "execution_count": 92,
   "metadata": {},
   "outputs": [],
   "source": [
    "from sklearn.metrics import precision_score"
   ]
  },
  {
   "cell_type": "code",
   "execution_count": 93,
   "metadata": {},
   "outputs": [
    {
     "name": "stdout",
     "output_type": "stream",
     "text": [
      "0.9801801801801802\n"
     ]
    }
   ],
   "source": [
    "print(precision_score(y_test,prediction))"
   ]
  },
  {
   "cell_type": "markdown",
   "metadata": {},
   "source": [
    "## F-Score or F1 Score\n",
    "\n",
    "F SCORE IS THE METRIC BETWEEN PRECISION AND RECALL"
   ]
  },
  {
   "cell_type": "code",
   "execution_count": 94,
   "metadata": {},
   "outputs": [],
   "source": [
    "from sklearn.metrics import f1_score"
   ]
  },
  {
   "cell_type": "code",
   "execution_count": 95,
   "metadata": {},
   "outputs": [
    {
     "name": "stdout",
     "output_type": "stream",
     "text": [
      "0.9510489510489509\n"
     ]
    }
   ],
   "source": [
    "print(f1_score(y_test,prediction))"
   ]
  },
  {
   "cell_type": "code",
   "execution_count": null,
   "metadata": {},
   "outputs": [],
   "source": []
  }
 ],
 "metadata": {
  "kernelspec": {
   "display_name": "Python 3",
   "language": "python",
   "name": "python3"
  },
  "language_info": {
   "codemirror_mode": {
    "name": "ipython",
    "version": 3
   },
   "file_extension": ".py",
   "mimetype": "text/x-python",
   "name": "python",
   "nbconvert_exporter": "python",
   "pygments_lexer": "ipython3",
   "version": "3.7.4"
  }
 },
 "nbformat": 4,
 "nbformat_minor": 2
}
